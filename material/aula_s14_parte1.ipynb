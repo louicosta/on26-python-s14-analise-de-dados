{
 "cells": [
  {
   "cell_type": "markdown",
   "id": "abb4c976-3c7a-45aa-9675-b0d21775442d",
   "metadata": {},
   "source": [
    "#  Contextualização: Semana 14\n",
    "Nas aulas anteriores, vocês aprenderam sobre banco de dados, como funcionam, e tiveram uma breve apresentação sobre pensamento analítico e o uso da biblioteca Pandas para manipular dados. Nesta aula, iremos aprofundar nossos conhecimentos em dados. Porém, antes de tudo é importante entender um conceito importante sobre dados: o que difere um dado do banco de dados para um dado em um gráfico? O processamento dessa informação. Vamos entender melhor? \n"
   ]
  },
  {
   "cell_type": "markdown",
   "id": "b9ef450c-02cf-4446-9aea-164ab731a993",
   "metadata": {},
   "source": [
    "Existem 3 conceitos que precisamos entender, o conceito de dados, informação e conhecimento.\n",
    "\n",
    "    - Dados: são a unidade base da informação. São registros soltos sem contexto ou análise prévia.\n",
    "        - Exemplo: Ontem Maria tinha batatas.\n",
    "        \n",
    "    - Informação: É a estruturação e organização dos dados. É a matéria base para o conhecimento.\n",
    "        - Exemplo: Ontem Maria tinha batatas, hoje Maria tem 40 batatas.\n",
    "        \n",
    "    - Conhecimento: É a informação processada, que nos permite tirar ideias.\n",
    "        - Exemplo: Como Maria tinha 40 batatas ontem e hoje ela tem apenas 20, em um dia ela perdeu 50% das suas batatas.\n"
   ]
  },
  {
   "cell_type": "markdown",
   "id": "19179c66-9877-448f-8f79-bb2f0d2f7fb3",
   "metadata": {},
   "source": [
    "Agora que entendemos esses conceitos entre um dado e o conhecimento. Por que dados são tão importantes? E por que especialmente no século 21, dados viraram protagonistas? \n",
    "\n",
    "![image](noticias_dados.png)\n",
    "\n",
    "\"Os dados são o novo petróleo. É valioso, mas se não for refinado não pode realmente ser usado (...) então os dados devem ser decompostos, analisados para que tenham valor.\" - Clive Humby (Tradução livre)\n",
    "\n",
    "Essa frase foi criada por Clive Humby, um matemático londrino especializado em ciência de dados. Basicamente, ele defende que, assim como o petróleo precisa ser refinado, dados precisam ser analisados. A maior riqueza se encontra não nos dados em si, mas sim na capacidade de usá-los de forma analítica. A inteligência por trás deles é quem determina seu maior valor pois, a partir dela, serão extraídas as descobertas que irão influenciar na tomada de decisões, sejam elas grandes ou pequenas, das empresas. "
   ]
  },
  {
   "cell_type": "markdown",
   "id": "a391beab-4bef-4e5d-aa25-925f3b55af84",
   "metadata": {},
   "source": [
    "E com esse fenômeno, as empresas estão cada vez mais com uma cultura data-driven. Mas o que é a cultura data-driven?\n",
    "\n",
    "Empresas data driven são aquelas que planejam, executam e gerenciam estratégias com base em **dados**, com o objetivo de se manterem relevantes no mercado utilizando a análise de dados em suas tomadas de decisão. Empresas que seguem essa cultura, quando bem aplicadas, possuem vários benefícios, como: \n",
    "\n",
    "- **Assertividade nas previsões**: Empresas de sucesso não vivem apenas o momento presente. Elas pautam suas decisões em previsões de mercado e se preparam para possíveis mudanças. Nesse momento, nada melhor do que contar com dados e informações seguras e confiáveis. A cultura data driven promove maior assertividade para o futuro das empresas por permitir que elas se preparem para os anos seguintes com base em noções sólidas do que está por vir em suas áreas.\n",
    "\n",
    "- **Decisões mais ágeis**: A velocidade de tomada de decisões em uma empresa também diz muito sobre sua resiliência em meio às dificuldades do mercado. Com o auxílio de dados consistentes e business intelligence, as resoluções de problemas e a montagem de novas estratégias se tornam mais ágeis e pontuais.\n",
    "\n",
    "- **Serviços e produtos superiores**: É inegável que produtos e serviços direcionados, por exemplo, para personas com características embasadas em dados advindos de pesquisas de mercado e online são muito mais propensos a gerar bons resultados e autoridade do que os divulgados arbitrariamente.\n",
    "\n",
    "E no Brasil, quais empresas possuem essa cultura data-driven? \n",
    "- Itaú\n",
    "- Nubank\n",
    "- iFood\n",
    "- PicPay\n",
    "- Stone\n"
   ]
  },
  {
   "cell_type": "markdown",
   "id": "d9f0f529-5095-401b-a35d-c0021d9ea3a5",
   "metadata": {},
   "source": [
    "## Introdução à Análise de Dados\n",
    "\n",
    "A análise de dados é o processo de buscar informações relevantes a partir de dados quantitativos e qualitativos de um determinado tema. Através da análise de dados, é possível confirmar e refutar hipóteses, identificar soluções para um problema e ser mais assertivo na tomada de decisões. \n",
    "\n",
    "### Quais os tipos de análise de dados?\n",
    "#### Análise preditiva\n",
    "Neste tipo de análise, os dados são utilizados para fazer projeções e identificar tendências futuras a partir de determinados padrões previamente definidos.\n",
    "\n",
    "\n",
    "#### Análise prescritiva\n",
    "A análise prescritiva busca avaliar as consequências que certas decisões podem trazer, esse tipo de análise é geralmente utilizado para definir qual o melhor caminho para alcançar um objetivo definido. \n",
    "\n",
    "Se a análise preditiva atua na previsão de comportamentos futuros, a análise prescritiva auxilia nas tomadas de decisão com o objetivo de melhorar o alcance de resultados e reduzir cenários negativos.\n",
    "\n",
    "#### Análise descritiva\n",
    "A análise descritiva é feita em cima de dados reais e passados, é descrever certos eventos que já ocorreram. Esse tipo de análise é normalmente é utilizada como um passo anterior às análises mais robustas, a etapa de descrição é o pontapé inicial para um estudo mais aprofundado. \n",
    "\n",
    "\n",
    "#### Análise diagnóstica\n",
    "Esse tipo de análise busca investigar as causas e efeitos dos eventos e objetos analisados. \n",
    "\n",
    "Então, em resumo:\n",
    "\n",
    "![img](tipos-de-analise.png)\n",
    "\n",
    "\n",
    "E quais são as etapas da análise de dados? \n",
    "\n",
    "1. Definição do problema;\n",
    "2. Coleta dos dados;\n",
    "3. Limpeza dos dados;\n",
    "4. Análise dos dados;\n",
    "5. Interpretação e visualização dos dados.\n"
   ]
  },
  {
   "cell_type": "markdown",
   "id": "e4651cc8-b5de-4330-b551-3cc51a612195",
   "metadata": {},
   "source": [
    "**Etapa 1 – Definição do problema**\n",
    "\n",
    "Nesse primeiro momento, você precisa definir qual será o problema que você irá resolver. Estabeleça quais perguntas deverão ser respondidas.\n",
    "\n",
    "Para que tenham o efeito desejado, os objetivos devem ser claros e mensuráveis, assim, as decisões serão tomadas com maior embasamento, você evitará desperdícios e as ações serão mais eficazes.\n",
    "\n",
    "\n",
    "**Etapa 2 – Coleta dos dados**\n",
    "\n",
    "Entenda de onde você precisará buscar informação para responder suas perguntas. Alguns lugares para buscar esses dados:\n",
    "- Web scraping para coletar dados online;\n",
    "- APIs;\n",
    "- Dados públicos;\n",
    "- Kaggle;\n",
    "\n",
    "**Etapa 3 - Limpeza dos dados**\n",
    "\n",
    "A limpeza de dados é um processo de eliminar inconsistências, ou seja, registros de baixa integridade, informações duplicadas, informações nulas, erradas ou de baixa relevância. \n",
    "\n",
    "**Etapa 4 - Análise dos dados**\n",
    "\n",
    "Nessa etapa, com as tabelas prontas, começamos a manipular os dados, agrupando, ordenando, buscando por padrões e o mais importante, buscando responder as perguntas que nós fizemos no início.\n",
    "\n",
    "**Etapa 5 - Interpretação e visualização dos dados.**\n",
    "\n",
    "Nessa etapa, os questionamentos iniciais devem ser respondidos e as conclusões precisam ser tomadas. Para melhorar a forma de comunicar os resultados, desenvolvemos gráficos, tabelas agregadas que possam melhorar o entendimento dos resultados obtidos. \n",
    "\n",
    "Para explorarmos todas as etapas da análise de dados, iremos trabalhar em cima de uma base de dados da netflix.\n"
   ]
  },
  {
   "cell_type": "markdown",
   "id": "c759293d-2851-46c4-9927-377fb5a8d92f",
   "metadata": {},
   "source": [
    "## Dinâmica: Explorando os dados da Netflix\n",
    "\n",
    "Em grupo, vocês irão abrir os dados da Netflix e definir um problema para responder com os dados. Entenda o tipo de dado que estamos trabalhando, qual o tipo de dados de cada coluna (inteiros, decimais, booleanos, strings), temos dados nulos? Quais colunas precisaremos manipular?\n"
   ]
  },
  {
   "cell_type": "markdown",
   "id": "fdc4ec71-e550-4f75-99c9-6469a15fd305",
   "metadata": {
    "id": "fdc4ec71-e550-4f75-99c9-6469a15fd305"
   },
   "source": [
    "# Analisando dados da Netflix\n",
    "\n",
    "Para começar, precisamos baixar o arquivo na plataforma da Kaggle (https://www.kaggle.com/datasets/arnavsmayan/netflix-userbase-dataset)."
   ]
  },
  {
   "cell_type": "code",
   "execution_count": null,
   "id": "d1b409ef-3728-4498-857a-eaf101941651",
   "metadata": {
    "id": "d1b409ef-3728-4498-857a-eaf101941651"
   },
   "outputs": [],
   "source": [
    "# importando os pacotes que iremos utilizar\n",
    "import pandas as pd"
   ]
  },
  {
   "cell_type": "markdown",
   "id": "655d4b43-80a1-4547-8614-96405fb6777c",
   "metadata": {
    "id": "655d4b43-80a1-4547-8614-96405fb6777c"
   },
   "source": [
    "# Coleta dos Dados\n",
    "\n",
    "A primeira etapa, de coleta, envolve baixar e importar os dados da Netflix para o nosso ambiente.\n",
    "\n",
    "Feito isso, utilizamos a função read_csv para importar o arquivo.\n",
    "\n",
    "Nosso arquivo possui 10 colunas, e todas trazem informações sobre os usuários que utilizam a plataforma."
   ]
  },
  {
   "cell_type": "code",
   "execution_count": null,
   "id": "f67eddd2-44cf-4e53-bcb4-7159ad3c5256",
   "metadata": {
    "colab": {
     "base_uri": "https://localhost:8080/",
     "height": 503
    },
    "id": "f67eddd2-44cf-4e53-bcb4-7159ad3c5256",
    "outputId": "04e58a94-d9b5-4a86-88dd-80e642d7e7e9"
   },
   "outputs": [],
   "source": [
    "# importando os dados da Netflix\n",
    "\n",
    "df_netflix = pd.read_csv('netflix.csv')\n",
    "df_netflix"
   ]
  },
  {
   "cell_type": "markdown",
   "id": "d797d654-6c0a-4df0-99eb-9cdfcf61d7d6",
   "metadata": {
    "id": "d797d654-6c0a-4df0-99eb-9cdfcf61d7d6"
   },
   "source": [
    "# Limpeza dos dados"
   ]
  },
  {
   "cell_type": "markdown",
   "id": "229b7b89-ce8d-41cc-a109-a3926574d444",
   "metadata": {
    "id": "229b7b89-ce8d-41cc-a109-a3926574d444"
   },
   "source": [
    "Vamos começar a entender como nossos dados estão. Iremos explorar os tipos de dados que temos em cada coluna, e iremos checar dados nulos."
   ]
  },
  {
   "cell_type": "code",
   "execution_count": null,
   "id": "8dd19a1f-d5f4-4299-92c2-70c0b615e049",
   "metadata": {
    "colab": {
     "base_uri": "https://localhost:8080/"
    },
    "id": "8dd19a1f-d5f4-4299-92c2-70c0b615e049",
    "outputId": "d02a02e1-04e8-40a4-9c80-c2a8ec65bfa0"
   },
   "outputs": [],
   "source": [
    "df_netflix.info()"
   ]
  },
  {
   "cell_type": "markdown",
   "id": "2c2a0bdc-fa1e-4c4c-8bc7-4a10efd96292",
   "metadata": {
    "id": "2c2a0bdc-fa1e-4c4c-8bc7-4a10efd96292"
   },
   "source": [
    "Com a função info() observamos que não temos dados nulos, vamos confirmar? Depois, iremos renomear as colunas para português e transformar a informação de algumas colunas."
   ]
  },
  {
   "cell_type": "code",
   "execution_count": null,
   "id": "8fd76bdc-5790-404a-85f7-233bc8c13bbf",
   "metadata": {
    "colab": {
     "base_uri": "https://localhost:8080/"
    },
    "id": "8fd76bdc-5790-404a-85f7-233bc8c13bbf",
    "outputId": "3949b855-cce8-4b06-f0af-0d0f9be0b8e7"
   },
   "outputs": [],
   "source": [
    "df_netflix.isnull().sum()"
   ]
  },
  {
   "cell_type": "markdown",
   "id": "bae68532-030d-4176-936e-96e3c128cb3c",
   "metadata": {
    "id": "bae68532-030d-4176-936e-96e3c128cb3c"
   },
   "source": [
    "Agora, com os dados transformados, vamos analisá-los!"
   ]
  },
  {
   "cell_type": "markdown",
   "id": "53008e25-837d-42ff-a70e-f03b83ccb7e8",
   "metadata": {
    "id": "53008e25-837d-42ff-a70e-f03b83ccb7e8"
   },
   "source": [
    "# Analisando os dados\n",
    "\n",
    "Iniciando nossa análise exploratória, é importante entendermos os nossos dados de forma geral. Para isso, podemos rodar o comando describe() para trazer as estatísticas descritivas das colunas numéricas da nossa tabela.\n",
    "\n",
    "**id_usuario**: essa coluna é uma coluna de identificador, então as estatísticas aqui mostradas não possuem valor para nós, vamos ignorá-las.\n",
    "\n",
    "**receita_mensal:** a partir das estatísticas extraídas dessa coluna, podemos notar que, a média da receita mensal por usuário é cerca de $12.5.\n",
    "\n",
    "**idade_usuario:** a idade média dos usuários que adquiriram a assinatura da netflix é de 38 anos, com a idade mínima de 26 anos e máxima de 51.\n",
    "\n",
    "**país:** o país que teve mais assinatura foi os Estados Unidos, com 451 pessoas assinantes.\n",
    "\n",
    " "
   ]
  },
  {
   "cell_type": "code",
   "execution_count": null,
   "id": "38c44a64-376e-4a42-9e97-30da147f5e83",
   "metadata": {
    "colab": {
     "base_uri": "https://localhost:8080/",
     "height": 300
    },
    "id": "38c44a64-376e-4a42-9e97-30da147f5e83",
    "outputId": "79ba14e0-24a5-4476-8d83-a17b25b2eb47"
   },
   "outputs": [],
   "source": [
    "df_netflix.describe(include='all').T"
   ]
  },
  {
   "cell_type": "code",
   "execution_count": null,
   "id": "6c92835d-cf0f-4e1e-ab1b-e95ca3750f5a",
   "metadata": {},
   "outputs": [],
   "source": [
    "df_netflix"
   ]
  },
  {
   "cell_type": "code",
   "execution_count": null,
   "id": "6be73248-4511-4811-89d9-fd90491260fc",
   "metadata": {
    "colab": {
     "base_uri": "https://localhost:8080/",
     "height": 488
    },
    "id": "6be73248-4511-4811-89d9-fd90491260fc",
    "outputId": "00a9ebfc-2856-4cc8-9e16-76edd44d37b8"
   },
   "outputs": [],
   "source": [
    "# há quanto tempo as pessoas estão inscritas na Netflix?\n",
    "df_netflix['duracao_assinatura'] = df_netflix['Last Payment Date'] - df_netflix['Join Date']\n",
    "df_netflix['duracao_assinatura'] = df_netflix['duracao_assinatura'].dt.days\n",
    "df_netflix"
   ]
  },
  {
   "cell_type": "code",
   "execution_count": null,
   "id": "c7896553-2c9f-4029-9774-941dff132b1b",
   "metadata": {},
   "outputs": [],
   "source": [
    "# convertendo o tipo de dados para data\n",
    "df_netflix['Last Payment Date'] = pd.to_datetime(df_netflix['Last Payment Date'])\n",
    "df_netflix['Join Date'] = pd.to_datetime(df_netflix['Join Date'])"
   ]
  },
  {
   "cell_type": "code",
   "execution_count": null,
   "id": "084f565d-84e1-4279-9133-9a408656232e",
   "metadata": {
    "colab": {
     "base_uri": "https://localhost:8080/",
     "height": 300
    },
    "id": "084f565d-84e1-4279-9133-9a408656232e",
    "outputId": "57660ae5-6ae1-4735-85c4-9c6610d83a28",
    "tags": []
   },
   "outputs": [],
   "source": [
    "# Com base na função describe() percebemos que a média de tempo que as pessoas se inscrevem é de cerca de 326 dias, quase um ano.\n",
    "# Mas, pera aí, o que são esse números negativos no minimo?\n",
    "df_netflix.describe().T"
   ]
  },
  {
   "cell_type": "code",
   "execution_count": null,
   "id": "f8fe4233-343b-4ecb-8737-d0fc8c747535",
   "metadata": {
    "colab": {
     "base_uri": "https://localhost:8080/",
     "height": 521
    },
    "id": "f8fe4233-343b-4ecb-8737-d0fc8c747535",
    "outputId": "19b57fc8-8a01-4715-829f-b8b7d228e619"
   },
   "outputs": [],
   "source": [
    "# vamos validar esses numeros?\n",
    "df_netflix[(df_netflix['duracao_assinatura'] < 0)]"
   ]
  },
  {
   "cell_type": "code",
   "execution_count": null,
   "id": "48972cd5-1046-401a-814b-07fe5ed1ab98",
   "metadata": {
    "colab": {
     "base_uri": "https://localhost:8080/",
     "height": 488
    },
    "id": "48972cd5-1046-401a-814b-07fe5ed1ab98",
    "outputId": "735e26ab-d17d-449b-c7d6-59d30f042518"
   },
   "outputs": [],
   "source": [
    "# Encontramos 13 valores inconsistentes, onde o dado não faz sentido. Como não possuímos contexto suficiente sobre essa tabela para entender\n",
    "# o motivo de termos dt_ultimo_pagamento maior que dt_assinatura, iremos retirar essas linhas para não enviezar nossos resultados.\n",
    "df_netflix = df_netflix.drop(df_netflix[df_netflix['duracao_assinatura'] < 0].index)\n",
    "df_netflix"
   ]
  },
  {
   "cell_type": "code",
   "execution_count": null,
   "id": "923f2f9e-04a9-4483-b460-f9ff2b6db9a4",
   "metadata": {
    "colab": {
     "base_uri": "https://localhost:8080/",
     "height": 300
    },
    "id": "923f2f9e-04a9-4483-b460-f9ff2b6db9a4",
    "outputId": "f1d8799f-fbb2-4542-d560-f507ac1fb47d"
   },
   "outputs": [],
   "source": [
    "# Agora sim, tirando os dados negativos, nossa média de duração de assinatura subiu um pouco, e agora podemos visualizar que o tempo mínimo\n",
    "# que as pessoas assinam a netflix é de 8 dias, e o máximo da base é 776 dias.\n",
    "df_netflix.describe().T"
   ]
  },
  {
   "cell_type": "code",
   "execution_count": null,
   "id": "0db79207-2b3b-49c2-bb4e-b9f09bc1bb41",
   "metadata": {
    "colab": {
     "base_uri": "https://localhost:8080/",
     "height": 488
    },
    "id": "0db79207-2b3b-49c2-bb4e-b9f09bc1bb41",
    "outputId": "4c5ae553-bb18-4fa1-8f23-07e04890246e"
   },
   "outputs": [],
   "source": [
    "# Antes de continuarmos nossa análise, existe mais um passo que devemos fazer: resetar o index. Como retiramos algumas linhas da nossa tabela, o\n",
    "# índice, ou seja, coluna mais à esquerda, porem ela ainda está com o intervalo de 1-2499.\n",
    "\n",
    "df_netflix = df_netflix.reset_index(drop=True)\n",
    "df_netflix\n",
    "\n",
    "# agora sim! nossa coluna de index está coerente. Vamos continuar!"
   ]
  },
  {
   "cell_type": "code",
   "execution_count": null,
   "id": "f1735ad6-08d6-45bf-b7aa-3e9689df7498",
   "metadata": {
    "colab": {
     "base_uri": "https://localhost:8080/"
    },
    "id": "f1735ad6-08d6-45bf-b7aa-3e9689df7498",
    "outputId": "9e428251-ef3a-49f5-a93b-0b658502373e"
   },
   "outputs": [],
   "source": [
    "# outra análise interessante de se fazer, será que existe um mês com um maior número de vendas?\n",
    "df_netflix['dt_mes'] = df_netflix['Join Date'].dt.month\n",
    "dt_inicio = df_netflix['dt_mes'].value_counts()\n",
    "dt_inicio"
   ]
  },
  {
   "cell_type": "code",
   "execution_count": null,
   "id": "72401f9c-d349-4a94-8670-fd2a893807e5",
   "metadata": {
    "colab": {
     "base_uri": "https://localhost:8080/"
    },
    "id": "72401f9c-d349-4a94-8670-fd2a893807e5",
    "outputId": "36444d91-5a45-46a2-d621-80af0791949f"
   },
   "outputs": [],
   "source": [
    "# Utilizando a função value_counts() conseguimos ter uma ideia de qual é a assinatura mais comum, porém, em números absolutos\n",
    "# é dificil entender a proporção entre os 3 planos.\n",
    "tipo_plano = df_netflix[\"Subscription Type\"].value_counts()\n",
    "tipo_plano"
   ]
  },
  {
   "cell_type": "code",
   "execution_count": null,
   "id": "4547fa12-d104-4387-bc93-b97300d1c848",
   "metadata": {
    "colab": {
     "base_uri": "https://localhost:8080/"
    },
    "id": "4547fa12-d104-4387-bc93-b97300d1c848",
    "outputId": "9f899ae2-38bd-4806-a305-dabc94762e17"
   },
   "outputs": [],
   "source": [
    "# Para isso, colocamos um parâmetro dentro da nossa função, e ele nos devolve os valores em porcentagem sobre o total.\n",
    "tipo_plano_perc = df_netflix[\"Subscription Type\"].value_counts(normalize=True)\n",
    "tipo_plano_perc\n",
    "\n",
    "# daqui, percebemos que o pacote mais recorrente é o Basic."
   ]
  },
  {
   "cell_type": "code",
   "execution_count": null,
   "id": "025aa9e4-c95f-4b90-854c-bddd3acaea75",
   "metadata": {
    "colab": {
     "base_uri": "https://localhost:8080/"
    },
    "id": "025aa9e4-c95f-4b90-854c-bddd3acaea75",
    "outputId": "5bd3c0a1-ebfe-42a0-f296-e22e754176d2"
   },
   "outputs": [],
   "source": [
    "# Vamos entender também, quais sao os países com o maior número de assinaturas: em valor absoluto\n",
    "pais_usuario = df_netflix[\"Country\"].value_counts()\n",
    "pais_usuario"
   ]
  },
  {
   "cell_type": "code",
   "execution_count": null,
   "id": "28fa5a3a-46e0-4616-aacc-3b053a5a7b22",
   "metadata": {
    "colab": {
     "base_uri": "https://localhost:8080/"
    },
    "id": "28fa5a3a-46e0-4616-aacc-3b053a5a7b22",
    "outputId": "a90aafb0-e85a-4ad2-becb-c1c054678b01"
   },
   "outputs": [],
   "source": [
    "# Vamos entender também, quais sao os países com o maior número de assinaturas: em percentual\n",
    "pais_usuario_perc = df_netflix[\"Country\"].value_counts(normalize=True)\n",
    "pais_usuario_perc"
   ]
  },
  {
   "cell_type": "code",
   "execution_count": null,
   "id": "8df8914d-2711-4672-bbcb-99c3536d0605",
   "metadata": {
    "colab": {
     "base_uri": "https://localhost:8080/",
     "height": 488
    },
    "id": "8df8914d-2711-4672-bbcb-99c3536d0605",
    "outputId": "d8b9a22e-1dd5-4dc4-d9ba-75d857ccdd26"
   },
   "outputs": [],
   "source": [
    "# Vamos criar intervalos de idade para entender melhor nossos usuários?\n",
    "# Iremos criar categorias de idades com o intervalo de 4 em 4 anos.\n",
    "# ou seja, 20-24, 25-29, 30-34, 35-39, 40-44, 45-49, 50-54, 55-59, +60\n",
    "\n",
    "df_netflix.loc[df_netflix['Age'] < 25, 'grupo_idade'] = '20-24'\n",
    "df_netflix.loc[(df_netflix['Age'] >= 25) & (df_netflix['Age'] < 30), 'grupo_idade'] = '25-29'\n",
    "df_netflix.loc[(df_netflix['Age'] >= 30) & (df_netflix['Age'] < 35), 'grupo_idade'] = '30-34'\n",
    "df_netflix.loc[(df_netflix['Age'] >= 35) & (df_netflix['Age'] < 40), 'grupo_idade'] = '35-39'\n",
    "df_netflix.loc[(df_netflix['Age'] >= 40) & (df_netflix['Age'] < 45), 'grupo_idade'] = '40-44'\n",
    "df_netflix.loc[(df_netflix['Age'] >= 45) & (df_netflix['Age'] < 50), 'grupo_idade'] = '45-49'\n",
    "df_netflix.loc[(df_netflix['Age'] >= 50) & (df_netflix['Age'] < 55), 'grupo_idade'] = '50-54'\n",
    "df_netflix.loc[(df_netflix['Age'] >= 55) & (df_netflix['Age'] < 60), 'grupo_idade'] = '54-59'\n",
    "df_netflix.loc[df_netflix['Age'] >= 60, 'grupo_idade'] = '60+'\n",
    "\n",
    "df_netflix"
   ]
  },
  {
   "cell_type": "code",
   "execution_count": null,
   "id": "cffde143-29ba-4aa6-a463-b8b02ab0f1e3",
   "metadata": {
    "colab": {
     "base_uri": "https://localhost:8080/"
    },
    "id": "cffde143-29ba-4aa6-a463-b8b02ab0f1e3",
    "outputId": "956f4ba6-c798-45a1-816c-181f1473a56c"
   },
   "outputs": [],
   "source": [
    "# com o grupo de idades feito, qual será a faixa etária mais recorrente?\n",
    "grupo_idade = df_netflix[\"grupo_idade\"].value_counts()\n",
    "grupo_idade"
   ]
  },
  {
   "cell_type": "markdown",
   "id": "a8890a5e-3392-44a3-978f-a15cc5bb849d",
   "metadata": {},
   "source": [
    "# Visualização dos dados"
   ]
  },
  {
   "cell_type": "code",
   "execution_count": null,
   "id": "8bebc3f2-3bca-4564-9ffc-89a113e0ae0a",
   "metadata": {},
   "outputs": [],
   "source": [
    "# importando os pacotes que iremos utilizar\n",
    "import matplotlib.pyplot as plt\n",
    "import seaborn as sns"
   ]
  },
  {
   "cell_type": "code",
   "execution_count": null,
   "id": "5dc82e76-9b58-4fb4-a31a-427b7af779f1",
   "metadata": {
    "colab": {
     "base_uri": "https://localhost:8080/",
     "height": 565
    },
    "id": "5dc82e76-9b58-4fb4-a31a-427b7af779f1",
    "outputId": "b29eda6d-df06-4ce7-f253-f46cfc68ca40"
   },
   "outputs": [],
   "source": [
    "# definir tamanho da figura\n",
    "plt.figure(figsize=(8, 6))\n",
    "\n",
    "# instanciar o tipo de plotagem, no caso, um countplot usando x como as faixas etárias\n",
    "sns.countplot(data = df_netflix,\n",
    "              x = 'grupo_idade')\n",
    "\n",
    "# definir texto do título e eixos x e y\n",
    "plt.title('Contagem de faixas etárias')\n",
    "plt.xlabel('Faixa etária')\n",
    "plt.ylabel('Contagem')\n",
    "\n",
    "plt.show()"
   ]
  },
  {
   "cell_type": "code",
   "execution_count": null,
   "id": "-QnTSt8BWt6W",
   "metadata": {
    "colab": {
     "base_uri": "https://localhost:8080/",
     "height": 564
    },
    "id": "-QnTSt8BWt6W",
    "outputId": "3d0b4b43-e582-4443-b6d0-ac04794a5ee6"
   },
   "outputs": [],
   "source": [
    "# definir tamanho da figura\n",
    "plt.figure(figsize=(8, 6))\n",
    "\n",
    "# instanciar o tipo de plotagem, no caso, um countplot usando x como os tipos de plano\n",
    "sns.countplot(data = df_netflix,\n",
    "              x = 'Subscription Type')\n",
    "\n",
    "# definir texto do título e eixos x e y\n",
    "plt.title('Contagem dos tipos de plano de assinatura')\n",
    "plt.xlabel('Plano de assinatura')\n",
    "plt.ylabel('Contagem')\n",
    "\n",
    "plt.show()"
   ]
  },
  {
   "cell_type": "code",
   "execution_count": null,
   "id": "-Lr-RR87Y5aa",
   "metadata": {
    "colab": {
     "base_uri": "https://localhost:8080/",
     "height": 565
    },
    "id": "-Lr-RR87Y5aa",
    "outputId": "311acff8-00a4-4370-ee06-d6c33bc8b64f"
   },
   "outputs": [],
   "source": [
    "# definir tamanho da figura\n",
    "plt.figure(figsize=(10, 6))\n",
    "\n",
    "# instanciar o tipo de plotagem, no caso, um countplot usando x como os tipos\n",
    "# de plano com tonalidades das barras definidas pela faixa etária\n",
    "\n",
    "sns.countplot(data = df_netflix,\n",
    "              x = 'Subscription Type',\n",
    "              hue = 'grupo_idade')\n",
    "\n",
    "# definir texto do título e eixos x e y\n",
    "\n",
    "plt.title('Planos de assinatura por faixa etária')\n",
    "plt.xlabel('Faixa etária')\n",
    "plt.ylabel('Contagem')\n",
    "\n",
    "# plotar e definir texto da legenda\n",
    "\n",
    "plt.legend(title = 'Faixa etária')\n",
    "\n",
    "plt.show()"
   ]
  },
  {
   "cell_type": "code",
   "execution_count": null,
   "id": "9ee6qB-dZU3G",
   "metadata": {
    "colab": {
     "base_uri": "https://localhost:8080/",
     "height": 618
    },
    "id": "9ee6qB-dZU3G",
    "outputId": "236324dc-cf0d-4135-d5dd-3fe2c760ea8f"
   },
   "outputs": [],
   "source": [
    "# definir tamanho da figura\n",
    "plt.figure(figsize=(12, 6))\n",
    "\n",
    "# instanciar o tipo de plotagem, no caso, um countplot usando x como os países\n",
    "# com tonalidades das barras definidas pela faixa etária\n",
    "\n",
    "sns.countplot(data = df_netflix,\n",
    "              x = 'Country',\n",
    "              hue = 'grupo_idade')\n",
    "\n",
    "# definir texto do título e eixos x e y\n",
    "\n",
    "plt.title('Países por faixa etária')\n",
    "plt.xlabel('País')\n",
    "plt.ylabel('Contagem')\n",
    "\n",
    "# como o texto do eixo x é longo, podemos rotacioná-lo para melhorar a visualização\n",
    "\n",
    "plt.xticks(rotation=330)\n",
    "\n",
    "# plotar e definir texto da legenda\n",
    "\n",
    "plt.legend(title = 'Faixa etária')\n",
    "\n",
    "plt.show()"
   ]
  },
  {
   "cell_type": "code",
   "execution_count": null,
   "id": "kOccK1bGagPO",
   "metadata": {
    "colab": {
     "base_uri": "https://localhost:8080/",
     "height": 618
    },
    "id": "kOccK1bGagPO",
    "outputId": "a8159ef8-49a6-4ef5-d039-ac61ae866ef0"
   },
   "outputs": [],
   "source": [
    "# definir tamanho da figura\n",
    "\n",
    "plt.figure(figsize=(12, 6))\n",
    "\n",
    "# instanciar o tipo de plotagem, no caso, um countplot usando x como os países\n",
    "# com tonalidades das barras definidas pelo tipo de plano\n",
    "\n",
    "sns.countplot(data = df_netflix,\n",
    "              x = 'Country',\n",
    "              hue = 'Subscription Type')\n",
    "\n",
    "# definir texto do título e eixos x e y\n",
    "\n",
    "plt.title('Países por tipo de plano')\n",
    "plt.xlabel('País')\n",
    "plt.ylabel('Contagem')\n",
    "\n",
    "# como o texto do eixo x é longo, podemos rotacioná-lo para melhorar a visualização\n",
    "\n",
    "plt.xticks(rotation=330)\n",
    "\n",
    "# plotar e definir texto da legenda\n",
    "\n",
    "plt.legend(title = 'Tipo de plano')\n",
    "\n",
    "plt.show()"
   ]
  },
  {
   "cell_type": "markdown",
   "id": "04b822fd-1ec8-4d3b-9e0a-9508c88210f7",
   "metadata": {},
   "source": [
    "# Hora de praticar\n",
    "\n",
    "Agora é sua vez de colocar a mão na massa! Em grupos, respondam as seguintes perguntas sobre os dados:\n",
    "\n",
    "1. Quantos usuários utilizam a Netflix pelo Tablet?\n",
    "2. Qual é a representatividade (em %) do sistema operacional mais utilizado para assistir Netflix?\n",
    "3. Crie visualizações que responda as seguintes perguntas:\n",
    "    1. Qual é o sistema operacional mais usado para cada faixa etária? Existe algum padrão? O tipo de aparelho muda de acordo com o grupo de idade?\n",
    "    2. No Brasil, qual é o sistema operacional mais utilizado?"
   ]
  },
  {
   "cell_type": "code",
   "execution_count": null,
   "id": "f27860af",
   "metadata": {},
   "outputs": [],
   "source": [
    "# Quantos usuários utilizam a Netflix pelo Tablet?\n",
    "tablet_netflix = df_netflix[\"Device\"].value_counts()\n",
    "tablet_netflix"
   ]
  },
  {
   "cell_type": "code",
   "execution_count": null,
   "id": "a729c72f",
   "metadata": {},
   "outputs": [],
   "source": [
    "# retornado somente tablet\n",
    "tablet_netflix = df_netflix[\"Device\"].value_counts().reset_index()\n",
    "tablet_netflix[tablet_netflix['Device'] == 'Tablet']"
   ]
  },
  {
   "cell_type": "code",
   "execution_count": null,
   "id": "cae68ac5",
   "metadata": {},
   "outputs": [],
   "source": [
    "# Qual é a representatividade (em %) do sistema operacional mais utilizado para assistir Netflix?\n",
    "perc_device = df_netflix[\"Device\"].value_counts(normalize=True)\n",
    "perc_device"
   ]
  },
  {
   "cell_type": "code",
   "execution_count": null,
   "id": "106ac311",
   "metadata": {},
   "outputs": [],
   "source": [
    "# Crie visualizações que responda as seguintes perguntas:\n",
    "#    1. Qual é o sistema operacional mais usado para cada faixa etária? Existe algum padrão? O tipo de aparelho muda de acordo com o grupo de idade?\n",
    "#    2. No Brasil, qual é o sistema operacional mais utilizado?\n",
    "\n"
   ]
  }
 ],
 "metadata": {
  "colab": {
   "provenance": []
  },
  "kernelspec": {
   "display_name": "Python 3 (ipykernel)",
   "language": "python",
   "name": "python3"
  },
  "language_info": {
   "codemirror_mode": {
    "name": "ipython",
    "version": 3
   },
   "file_extension": ".py",
   "mimetype": "text/x-python",
   "name": "python",
   "nbconvert_exporter": "python",
   "pygments_lexer": "ipython3",
   "version": "3.11.4"
  }
 },
 "nbformat": 4,
 "nbformat_minor": 5
}
